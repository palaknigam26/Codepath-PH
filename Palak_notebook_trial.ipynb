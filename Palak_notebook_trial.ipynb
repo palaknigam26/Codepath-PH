{
 "cells": [
  {
   "cell_type": "markdown",
   "id": "0ef68eef",
   "metadata": {},
   "source": [
    "# First Program\n",
    "This is our first program that prints a message."
   ]
  },
  {
   "cell_type": "code",
   "execution_count": 2,
   "id": "c5be51bc",
   "metadata": {},
   "outputs": [
    {
     "name": "stdout",
     "output_type": "stream",
     "text": [
      "hello, world!\n",
      "second, world!\n"
     ]
    }
   ],
   "source": [
    "print ('hello, world!')\n",
    "print ('second, world!')"
   ]
  },
  {
   "cell_type": "markdown",
   "id": "6480e831",
   "metadata": {},
   "source": [
    "#This is some more documentation \n",
    "* Here is 1 item\n",
    "* Here is another item\n"
   ]
  },
  {
   "cell_type": "code",
   "execution_count": 3,
   "id": "cf34f821",
   "metadata": {},
   "outputs": [],
   "source": [
    "import pandas as pd "
   ]
  },
  {
   "cell_type": "code",
   "execution_count": 4,
   "id": "dc0c4e67",
   "metadata": {
    "scrolled": true
   },
   "outputs": [
    {
     "name": "stdout",
     "output_type": "stream",
     "text": [
      "<module 'pandas' from '/Users/palaknigam/anaconda3/lib/python3.11/site-packages/pandas/__init__.py'>\n"
     ]
    }
   ],
   "source": [
    "print(pd)"
   ]
  },
  {
   "cell_type": "code",
   "execution_count": 5,
   "id": "a206983d",
   "metadata": {},
   "outputs": [
    {
     "name": "stdout",
     "output_type": "stream",
     "text": [
      "bad code\n"
     ]
    }
   ],
   "source": [
    "print ('bad code')"
   ]
  },
  {
   "cell_type": "code",
   "execution_count": 6,
   "id": "25b54902",
   "metadata": {},
   "outputs": [
    {
     "data": {
      "text/plain": [
       "2"
      ]
     },
     "execution_count": 6,
     "metadata": {},
     "output_type": "execute_result"
    }
   ],
   "source": [
    "1+1"
   ]
  },
  {
   "cell_type": "code",
   "execution_count": null,
   "id": "b66e2cb3",
   "metadata": {},
   "outputs": [],
   "source": []
  }
 ],
 "metadata": {
  "kernelspec": {
   "display_name": "Python 3 (ipykernel)",
   "language": "python",
   "name": "python3"
  },
  "language_info": {
   "codemirror_mode": {
    "name": "ipython",
    "version": 3
   },
   "file_extension": ".py",
   "mimetype": "text/x-python",
   "name": "python",
   "nbconvert_exporter": "python",
   "pygments_lexer": "ipython3",
   "version": "3.11.5"
  }
 },
 "nbformat": 4,
 "nbformat_minor": 5
}
